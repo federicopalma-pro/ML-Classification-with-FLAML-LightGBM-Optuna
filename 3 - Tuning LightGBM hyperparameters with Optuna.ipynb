{
 "cells": [
  {
   "cell_type": "markdown",
   "id": "6eb65739",
   "metadata": {},
   "source": [
    "# Import libraries"
   ]
  },
  {
   "cell_type": "code",
   "execution_count": 1,
   "id": "ed302d14",
   "metadata": {},
   "outputs": [],
   "source": [
    "import pandas as pd\n",
    "import numpy as np\n",
    "import matplotlib.pyplot as plt\n",
    "import seaborn as sns\n",
    "import pickle\n",
    "import optuna\n",
    "from optuna.visualization import plot_param_importances\n",
    "from optuna.visualization import plot_contour\n",
    "from lightgbm import LGBMClassifier"
   ]
  },
  {
   "cell_type": "code",
   "execution_count": 2,
   "id": "2575d705",
   "metadata": {},
   "outputs": [],
   "source": [
    "import warnings\n",
    "warnings.filterwarnings(\"ignore\", category=UserWarning)"
   ]
  },
  {
   "cell_type": "code",
   "execution_count": 3,
   "id": "4736f008",
   "metadata": {},
   "outputs": [],
   "source": [
    "from sklearn.model_selection import train_test_split\n",
    "from sklearn.metrics import accuracy_score, f1_score\n",
    "#from sklearn.metrics import log_loss\n",
    "from sklearn.model_selection import KFold\n",
    "from  sklearn  import  set_config\n",
    "set_config(display='diagram')"
   ]
  },
  {
   "cell_type": "markdown",
   "id": "2cc89fdb",
   "metadata": {},
   "source": [
    "# Loading data"
   ]
  },
  {
   "cell_type": "code",
   "execution_count": 4,
   "id": "66e60107",
   "metadata": {},
   "outputs": [],
   "source": [
    "with open('airline_dataset.pkl', 'rb') as f:\n",
    "    data = pickle.load(f)"
   ]
  },
  {
   "cell_type": "code",
   "execution_count": 5,
   "id": "faabd9e4",
   "metadata": {},
   "outputs": [],
   "source": [
    "X, y = data"
   ]
  },
  {
   "cell_type": "markdown",
   "id": "57d6d340",
   "metadata": {},
   "source": [
    "# Prepare dataset for cross validation"
   ]
  },
  {
   "cell_type": "code",
   "execution_count": 6,
   "id": "143fc3ae",
   "metadata": {},
   "outputs": [],
   "source": [
    "X_train, X_test, y_train, y_test = train_test_split(X, y, test_size=0.3, random_state=13)"
   ]
  },
  {
   "cell_type": "code",
   "execution_count": 7,
   "id": "9c54bd9b",
   "metadata": {},
   "outputs": [],
   "source": [
    "kf = KFold(n_splits=5, shuffle=True, random_state=42)"
   ]
  },
  {
   "cell_type": "code",
   "execution_count": 8,
   "id": "691a7028",
   "metadata": {},
   "outputs": [],
   "source": [
    "X_train_cv = []\n",
    "X_test_cv = []\n",
    "y_train_cv = []\n",
    "y_test_cv = []"
   ]
  },
  {
   "cell_type": "code",
   "execution_count": 9,
   "id": "2ed23175",
   "metadata": {},
   "outputs": [],
   "source": [
    "for idx, (train_index, test_index) in enumerate(kf.split(X_train)):\n",
    "    X_train_cv.append(X_train[train_index])\n",
    "    X_test_cv.append(X_train[test_index])\n",
    "    y_train_cv.append(y_train[train_index])\n",
    "    y_test_cv.append(y_train[test_index])"
   ]
  },
  {
   "cell_type": "code",
   "execution_count": 10,
   "id": "06f1d187",
   "metadata": {},
   "outputs": [
    {
     "data": {
      "text/plain": [
       "((72512, 27), (72512,), (18128, 27), (18128,))"
      ]
     },
     "execution_count": 10,
     "metadata": {},
     "output_type": "execute_result"
    }
   ],
   "source": [
    "X_train_cv[0].shape, y_train_cv[0].shape, X_test_cv[0].shape, y_test_cv[0].shape"
   ]
  },
  {
   "cell_type": "code",
   "execution_count": 11,
   "id": "95843d79",
   "metadata": {},
   "outputs": [],
   "source": [
    "def objective(trial):\n",
    "    param_grid = {\n",
    "\n",
    "            \"boosting_type\": trial.suggest_categorical(\"boosting_type\", ['gbdt','dart']),   \n",
    "            \"n_estimators\": trial.suggest_int(\"n_estimators\", 100,2000),\n",
    "            \"min_child_samples\": trial.suggest_int(\"min_child_samples\", 1,50),\n",
    "            \"learning_rate\": trial.suggest_float(\"learning_rate\", 0.01, 0.1),\n",
    "            \"num_leaves\": trial.suggest_int(\"num_leaves\", 10, 1000),   \n",
    "            \"colsample_bytree\": trial.suggest_float(\"colsample_bytree\", 0, 1),\n",
    "            \"reg_alpha\": trial.suggest_float(\"reg_alpha\", 0, 0.1),\n",
    "            \"reg_lambda\": trial.suggest_float(\"reg_lambda\", 0, 0.1),\n",
    "            \"min_split_gain\": trial.suggest_float(\"min_split_gain\", 0, 1),       \n",
    "            \"min_child_weight\": trial.suggest_float(\"min_child_weight\", 0, 1),\n",
    "      \n",
    "          }  \n",
    "    \n",
    "    accuracy = np.empty(5)\n",
    "\n",
    "    for i in range(idx+1):\n",
    "        # Create an XGBoost classifier with the given hyperparameters\n",
    "        model = LGBMClassifier(**param_grid)\n",
    "\n",
    "        # Train the model on the training data\n",
    "        model.fit(X_train_cv[i], y_train_cv[i])\n",
    "\n",
    "        # Make predictions on the testing data\n",
    "        y_pred = model.predict(X_test_cv[i])\n",
    "\n",
    "        # Calculate the accuracy of the model\n",
    "        accuracy[i] = f1_score(y_test_cv[i], y_pred)        \n",
    "\n",
    "    return np.mean(accuracy)"
   ]
  },
  {
   "cell_type": "code",
   "execution_count": 12,
   "id": "06116b9b",
   "metadata": {
    "scrolled": false
   },
   "outputs": [
    {
     "name": "stderr",
     "output_type": "stream",
     "text": [
      "\u001b[32m[I 2023-04-02 23:04:55,824]\u001b[0m A new study created in memory with name: LightGBM Classifier\u001b[0m\n"
     ]
    }
   ],
   "source": [
    "study = optuna.create_study(direction=\"maximize\", study_name=\"LightGBM Classifier\")"
   ]
  },
  {
   "cell_type": "code",
   "execution_count": null,
   "id": "36e3c11d",
   "metadata": {
    "collapsed": true
   },
   "outputs": [],
   "source": [
    "study.optimize(objective, n_trials=1024, n_jobs=-1, show_progress_bar=True)"
   ]
  },
  {
   "cell_type": "code",
   "execution_count": 14,
   "id": "3662bfc9",
   "metadata": {},
   "outputs": [
    {
     "data": {
      "text/plain": [
       "{'boosting_type': 'dart',\n",
       " 'n_estimators': 729,\n",
       " 'min_child_samples': 5,\n",
       " 'learning_rate': 0.09058025591953338,\n",
       " 'num_leaves': 146,\n",
       " 'colsample_bytree': 0.9773512265322472,\n",
       " 'reg_alpha': 0.04836405507163106,\n",
       " 'reg_lambda': 0.08467358653637265,\n",
       " 'min_split_gain': 0.6060617236332217,\n",
       " 'min_child_weight': 0.19214701592888236}"
      ]
     },
     "execution_count": 14,
     "metadata": {},
     "output_type": "execute_result"
    }
   ],
   "source": [
    "study.best_params"
   ]
  },
  {
   "cell_type": "code",
   "execution_count": 15,
   "id": "0413bdaa",
   "metadata": {
    "scrolled": true
   },
   "outputs": [
    {
     "data": {
      "text/plain": [
       "0.9593524038016085"
      ]
     },
     "execution_count": 15,
     "metadata": {},
     "output_type": "execute_result"
    }
   ],
   "source": [
    "study.best_value"
   ]
  },
  {
   "cell_type": "code",
   "execution_count": null,
   "id": "0ac1ebe5",
   "metadata": {},
   "outputs": [],
   "source": []
  }
 ],
 "metadata": {
  "kernelspec": {
   "display_name": "Python 3 (ipykernel)",
   "language": "python",
   "name": "python3"
  },
  "language_info": {
   "codemirror_mode": {
    "name": "ipython",
    "version": 3
   },
   "file_extension": ".py",
   "mimetype": "text/x-python",
   "name": "python",
   "nbconvert_exporter": "python",
   "pygments_lexer": "ipython3",
   "version": "3.9.16"
  }
 },
 "nbformat": 4,
 "nbformat_minor": 5
}
